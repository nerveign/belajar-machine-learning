{
  "nbformat": 4,
  "nbformat_minor": 0,
  "metadata": {
    "colab": {
      "provenance": []
    },
    "kernelspec": {
      "name": "python3",
      "display_name": "Python 3"
    },
    "language_info": {
      "name": "python"
    }
  },
  "cells": [
    {
      "cell_type": "code",
      "execution_count": 1,
      "metadata": {
        "id": "eXV5vFUC5VF_"
      },
      "outputs": [],
      "source": [
        "import numpy as np\n",
        "import pandas as pd\n",
        "from sklearn.datasets import fetch_california_housing\n",
        "from sklearn.model_selection import train_test_split, cross_val_score, learning_curve\n",
        "from sklearn.preprocessing import StandardScaler\n",
        "from sklearn.tree import DecisionTreeRegressor\n",
        "from sklearn.metrics import mean_squared_error\n",
        "import matplotlib.pyplot as plt"
      ]
    },
    {
      "cell_type": "code",
      "source": [
        "# Load Dataset Californio Housing\n",
        "data = fetch_california_housing()\n",
        "X = pd.DataFrame(data.data, columns=data.feature_names)\n",
        "y = pd.Series(data.target)\n",
        "\n",
        "# Normalisasi Data\n",
        "scaler = StandardScaler()\n",
        "X_scaled = scaler.fit_transform(X)\n",
        "\n",
        "# Split atau Membagi data\n",
        "X_train, X_test, y_train, y_test = train_test_split(X_scaled, y, test_size=0.3, random_state=42)"
      ],
      "metadata": {
        "id": "EJPS-2BJ51Ke"
      },
      "execution_count": 3,
      "outputs": []
    },
    {
      "cell_type": "code",
      "source": [
        "# Inisialisasi model Decision Tree Regressor\n",
        "model = DecisionTreeRegressor(max_depth=50, random_state=42)\n",
        "\n",
        "# Melatih model dengan data latih\n",
        "model.fit(X_train, y_train)\n",
        "\n",
        "# Membuat prediksi untuk data latih dan data uji\n",
        "y_train_pred = model.predict(X_train)\n",
        "y_test_pred = model.predict(X_test)"
      ],
      "metadata": {
        "id": "oHhhdlBD6dRY"
      },
      "execution_count": 4,
      "outputs": []
    },
    {
      "cell_type": "code",
      "source": [
        "# Menghitung Mean Squared Error (MSE) untuk data latih dan data uji\n",
        "train_mse = mean_squared_error(y_train, y_train_pred)\n",
        "test_mse = mean_squared_error(y_test, y_test_pred)\n",
        "\n",
        "# Menampilkan hasil MSE\n",
        "print(f'Training MSE: {train_mse}')\n",
        "print(f'Test MSE: {test_mse}')"
      ],
      "metadata": {
        "colab": {
          "base_uri": "https://localhost:8080/"
        },
        "id": "LHhduBP36_WL",
        "outputId": "c9cbc261-1c1f-4f70-92a2-e1723060b9e3"
      },
      "execution_count": 5,
      "outputs": [
        {
          "output_type": "stream",
          "name": "stdout",
          "text": [
            "Training MSE: 9.904697258622977e-32\n",
            "Test MSE: 0.5265727720164728\n"
          ]
        }
      ]
    },
    {
      "cell_type": "code",
      "source": [
        "from sklearn.model_selection import learning_curve\n",
        "import matplotlib.pyplot as plt\n",
        "\n",
        "# Menghitung learning curve\n",
        "train_sizes, train_scores, test_scores = learning_curve(model, X_train, y_train, cv=5, scoring='neg_mean_squared_error', n_jobs=-1)\n",
        "\n",
        "# Menghitung rata-rata dan standar deviasi\n",
        "train_mean = -np.mean(train_scores, axis=1)\n",
        "test_mean = -np.mean(test_scores, axis=1)\n",
        "\n",
        "# Plot learning curve\n",
        "plt.plot(train_sizes, train_mean, 'o-', color=\"blue\", label=\"Training error\")\n",
        "plt.plot(train_sizes, test_mean, 'o-', color=\"green\", label=\"Cross-validation error\")\n",
        "plt.title(\"Learning Curve\")\n",
        "plt.xlabel(\"Training Set Size\")\n",
        "plt.ylabel(\"MSE\")\n",
        "plt.legend()\n",
        "plt.show()"
      ],
      "metadata": {
        "colab": {
          "base_uri": "https://localhost:8080/",
          "height": 472
        },
        "id": "0AKoTEIk7OYR",
        "outputId": "c1d685b5-8778-45f5-f32b-0eb285083e3a"
      },
      "execution_count": 6,
      "outputs": [
        {
          "output_type": "display_data",
          "data": {
            "text/plain": [
              "<Figure size 640x480 with 1 Axes>"
            ],
            "image/png": "[encoded data removed]"
          },
          "metadata": {}
        }
      ]
    },
    {
      "cell_type": "code",
      "source": [
        "from sklearn.model_selection import cross_val_score\n",
        "\n",
        "# Menggunakan cross-validation dengan 5 fold\n",
        "cross_val_scores = cross_val_score(model, X_train, y_train, cv=5, scoring='neg_mean_squared_error')\n",
        "\n",
        "# Menampilkan hasil cross-validation\n",
        "print(f'Cross-Validation MSE: {-cross_val_scores.mean()}')"
      ],
      "metadata": {
        "colab": {
          "base_uri": "https://localhost:8080/"
        },
        "id": "p8zhy7aJ7wey",
        "outputId": "f8188677-fe61-419a-a040-6aea195b982c"
      },
      "execution_count": 7,
      "outputs": [
        {
          "output_type": "stream",
          "name": "stdout",
          "text": [
            "Cross-Validation MSE: 0.5563505679371618\n"
          ]
        }
      ]
    },
    {
      "cell_type": "code",
      "source": [
        "# Membuat model Decision Tree dengan kedalaman yang lebih kecil\n",
        "model_reg = DecisionTreeRegressor(max_depth=5, random_state=42)\n",
        "model_reg.fit(X_train, y_train)\n",
        "\n",
        "# Evaluasi pada data latih dan uji\n",
        "y_train_pred_reg = model_reg.predict(X_train)\n",
        "y_test_pred_reg = model_reg.predict(X_test)\n",
        "\n",
        "# Hitung MSE\n",
        "train_mse_reg = mean_squared_error(y_train, y_train_pred_reg)\n",
        "test_mse_reg = mean_squared_error(y_test, y_test_pred_reg)\n",
        "\n",
        "print(f'Training MSE (After Regularization): {train_mse_reg}')\n",
        "print(f'Test MSE (After Regularization): {test_mse_reg}')"
      ],
      "metadata": {
        "colab": {
          "base_uri": "https://localhost:8080/"
        },
        "id": "reKKUN9R8fl_",
        "outputId": "7f4f2808-57c0-4f21-e6ed-771d753de2ba"
      },
      "execution_count": 8,
      "outputs": [
        {
          "output_type": "stream",
          "name": "stdout",
          "text": [
            "Training MSE (After Regularization): 0.4928096322147045\n",
            "Test MSE (After Regularization): 0.5210801561811792\n"
          ]
        }
      ]
    },
    {
      "cell_type": "code",
      "source": [
        "# Menggunakan ccp_alpha untuk pruning (Cost Complexity Pruning)\n",
        "path = model.cost_complexity_pruning_path(X_train, y_train)\n",
        "ccp_alphas = path.ccp_alphas\n",
        "\n",
        "# Melatih model dengan pruning\n",
        "model_pruned = DecisionTreeRegressor(random_state=42, ccp_alpha=ccp_alphas[-2])\n",
        "model_pruned.fit(X_train, y_train)\n",
        "\n",
        "# Membuat prediksi\n",
        "y_train_pred_pruned = model_pruned.predict(X_train)\n",
        "y_test_pred_pruned = model_pruned.predict(X_test)\n",
        "\n",
        "# Menghitung MSE\n",
        "train_mse_pruned = mean_squared_error(y_train, y_train_pred_pruned)\n",
        "test_mse_pruned = mean_squared_error(y_test, y_test_pred_pruned)\n",
        "\n",
        "print(f'Pruned Model Training MSE: {train_mse_pruned}')\n",
        "print(f'Pruned Model Test MSE: {test_mse_pruned}')"
      ],
      "metadata": {
        "colab": {
          "base_uri": "https://localhost:8080/"
        },
        "id": "J0t1jCkw8pTA",
        "outputId": "763e65e4-63f7-4c1a-b5be-c61d7facccc2"
      },
      "execution_count": 9,
      "outputs": [
        {
          "output_type": "stream",
          "name": "stdout",
          "text": [
            "Pruned Model Training MSE: 0.9189620181001872\n",
            "Pruned Model Test MSE: 0.9194598144703808\n"
          ]
        }
      ]
    },
    {
      "cell_type": "code",
      "source": [
        "# Menambahkan sedikit noise ke data sebagai augmentasi\n",
        "X_train_aug = X_train + np.random.normal(0, 0.1, X_train.shape)\n",
        "\n",
        "# Melatih ulang model dengan augmented data\n",
        "model_aug = DecisionTreeRegressor(max_depth=10, random_state=42)\n",
        "model_aug.fit(X_train_aug, y_train)\n",
        "\n",
        "# Membuat prediksi\n",
        "y_train_pred_aug = model_aug.predict(X_train_aug)\n",
        "y_test_pred_aug = model_aug.predict(X_test)\n",
        "\n",
        "# Menghitung MSE\n",
        "train_mse_aug = mean_squared_error(y_train, y_train_pred_aug)\n",
        "test_mse_aug = mean_squared_error(y_test, y_test_pred_aug)\n",
        "\n",
        "print(f'Augmented Data Training MSE: {train_mse_aug}')\n",
        "print(f'Augmented Data Test MSE: {test_mse_aug}')"
      ],
      "metadata": {
        "colab": {
          "base_uri": "https://localhost:8080/"
        },
        "id": "irJczwDO9Fzu",
        "outputId": "b4a39434-45f2-4023-9a10-2ba9e022843a"
      },
      "execution_count": 10,
      "outputs": [
        {
          "output_type": "stream",
          "name": "stdout",
          "text": [
            "Augmented Data Training MSE: 0.3334354890066783\n",
            "Augmented Data Test MSE: 0.4901500101970623\n"
          ]
        }
      ]
    },
    {
      "cell_type": "code",
      "source": [
        "from sklearn.ensemble import RandomForestRegressor\n",
        "\n",
        "# Inisialisasi Random Forests dengan n_estimators (jumlah pohon)\n",
        "model_rf = RandomForestRegressor(n_estimators=100, max_depth=10, random_state=42)\n",
        "\n",
        "# Melatih model\n",
        "model_rf.fit(X_train, y_train)\n",
        "\n",
        "# Membuat prediksi\n",
        "y_train_pred_rf = model_rf.predict(X_train)\n",
        "y_test_pred_rf = model_rf.predict(X_test)\n",
        "\n",
        "# Menghitung MSE\n",
        "train_mse_rf = mean_squared_error(y_train, y_train_pred_rf)\n",
        "test_mse_rf = mean_squared_error(y_test, y_test_pred_rf)\n",
        "\n",
        "print(f'Random Forest Training MSE: {train_mse_rf}')\n",
        "print(f'Random Forest Test MSE: {test_mse_rf}')"
      ],
      "metadata": {
        "colab": {
          "base_uri": "https://localhost:8080/"
        },
        "id": "NfvgPvld9fS5",
        "outputId": "e6362dc3-98e6-4673-eeaf-a1e6a36fa4e6"
      },
      "execution_count": 12,
      "outputs": [
        {
          "output_type": "stream",
          "name": "stdout",
          "text": [
            "Random Forest Training MSE: 0.1694509694100654\n",
            "Random Forest Test MSE: 0.2944646271173382\n"
          ]
        }
      ]
    }
  ]
}